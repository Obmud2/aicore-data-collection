{
 "cells": [
  {
   "cell_type": "code",
   "execution_count": 1,
   "metadata": {},
   "outputs": [],
   "source": [
    "# Initilize scraper\n",
    "from autotrader_scraper import *"
   ]
  },
  {
   "cell_type": "code",
   "execution_count": 2,
   "metadata": {},
   "outputs": [
    {
     "name": "stdout",
     "output_type": "stream",
     "text": [
      "Navigated to https://www.autotrader.co.uk\n",
      "Cookies accepted\n"
     ]
    }
   ],
   "source": [
    "test = Autotrader_scraper()\n",
    "test.accept_cookies()"
   ]
  },
  {
   "cell_type": "code",
   "execution_count": 3,
   "metadata": {},
   "outputs": [
    {
     "name": "stdout",
     "output_type": "stream",
     "text": [
      "Clicking button \"searchSearch 28 cars\"\n",
      "Searching for Lotus Exige\n",
      "Searching page 1 of 1\n",
      "10 vehicles found on page 1.\n"
     ]
    }
   ],
   "source": [
    "# Search vehicles and get list of results\n",
    "test.search_vehicle_type(\"Lotus\", \"Exige\")\n",
    "results = test.get_url_list(1)"
   ]
  },
  {
   "cell_type": "code",
   "execution_count": 4,
   "metadata": {},
   "outputs": [
    {
     "name": "stdout",
     "output_type": "stream",
     "text": [
      "                                                 url        title  \\\n",
      "0  https://www.autotrader.co.uk/car-details/20220...  Lotus Exige   \n",
      "1  https://www.autotrader.co.uk/car-details/20220...  Lotus Exige   \n",
      "2  https://www.autotrader.co.uk/car-details/20220...  Lotus Exige   \n",
      "3  https://www.autotrader.co.uk/car-details/20220...  Lotus Exige   \n",
      "4  https://www.autotrader.co.uk/car-details/20220...  Lotus Exige   \n",
      "5  https://www.autotrader.co.uk/car-details/20220...  Lotus Exige   \n",
      "6  https://www.autotrader.co.uk/car-details/20220...  Lotus Exige   \n",
      "7  https://www.autotrader.co.uk/car-details/20220...  Lotus Exige   \n",
      "8  https://www.autotrader.co.uk/car-details/20220...  Lotus Exige   \n",
      "9  https://www.autotrader.co.uk/car-details/20220...  Lotus Exige   \n",
      "\n",
      "                                            subtitle    price  \\\n",
      "0                                3.5 V6 S Euro 5 2dr  £42,000   \n",
      "1        1.8 S Sports Touring Performance Euro 4 2dr  £36,911   \n",
      "2                               3.5 V6 410 SPORT 2DR  £73,950   \n",
      "3        V6 Cup Bell & Colvill Black Edition 3.5 2dr  £59,990   \n",
      "4                V6 S RACE AND PREMIUM SPORT 3.5 2dr  £47,990   \n",
      "5                   3.5 V6 Sport 350 Auto Euro 6 2dr  £55,000   \n",
      "6                               3.5 V6 410 SPORT 2DR  £79,990   \n",
      "7  3.5 V6 Cup 430 Final Edition Coupe 2dr Petrol ...  £95,000   \n",
      "8                                3.5 V6 S Euro 5 2dr  £47,480   \n",
      "9                                3.5 V6 S Euro 5 2dr  £44,000   \n",
      "\n",
      "             location  \n",
      "0          st. albans  \n",
      "1              newark  \n",
      "2               poole  \n",
      "3          chichester  \n",
      "4          chichester  \n",
      "5           leicester  \n",
      "6              exeter  \n",
      "7          nottingham  \n",
      "8  sutton-in-ashfield  \n",
      "9  bishop's stortford  \n"
     ]
    }
   ],
   "source": [
    "import pandas as pd\n",
    "df = pd.DataFrame(results)\n",
    "df.columns = ['url', 'title', 'subtitle', 'price', 'location']\n",
    "print(df)"
   ]
  },
  {
   "cell_type": "code",
   "execution_count": 5,
   "metadata": {},
   "outputs": [
    {
     "ename": "AttributeError",
     "evalue": "'Autotrader_scraper' object has no attribute 'add_vehicle_page_data'",
     "output_type": "error",
     "traceback": [
      "\u001b[0;31m---------------------------------------------------------------------------\u001b[0m",
      "\u001b[0;31mAttributeError\u001b[0m                            Traceback (most recent call last)",
      "\u001b[1;32m/Users/jonpring/aicore/aicore-data-collection/scraper_test.ipynb Cell 5\u001b[0m in \u001b[0;36m<cell line: 4>\u001b[0;34m()\u001b[0m\n\u001b[1;32m      <a href='vscode-notebook-cell:/Users/jonpring/aicore/aicore-data-collection/scraper_test.ipynb#W2sZmlsZQ%3D%3D?line=0'>1</a>\u001b[0m \u001b[39m# Get results from URL\u001b[39;00m\n\u001b[1;32m      <a href='vscode-notebook-cell:/Users/jonpring/aicore/aicore-data-collection/scraper_test.ipynb#W2sZmlsZQ%3D%3D?line=1'>2</a>\u001b[0m vehilce_url \u001b[39m=\u001b[39m df[\u001b[39m'\u001b[39m\u001b[39murl\u001b[39m\u001b[39m'\u001b[39m][\u001b[39m0\u001b[39m]\n\u001b[0;32m----> <a href='vscode-notebook-cell:/Users/jonpring/aicore/aicore-data-collection/scraper_test.ipynb#W2sZmlsZQ%3D%3D?line=3'>4</a>\u001b[0m new_veh_data \u001b[39m=\u001b[39m pd\u001b[39m.\u001b[39mDataFrame(test\u001b[39m.\u001b[39;49madd_vehicle_page_data(results))\n",
      "\u001b[0;31mAttributeError\u001b[0m: 'Autotrader_scraper' object has no attribute 'add_vehicle_page_data'"
     ]
    }
   ],
   "source": [
    "# Get results from URL\n",
    "vehilce_url = df['url'][0]\n",
    "\n",
    "new_veh_data = pd.DataFrame(test.add_vehicle_page_data(results))"
   ]
  },
  {
   "cell_type": "code",
   "execution_count": null,
   "metadata": {},
   "outputs": [
    {
     "name": "stdout",
     "output_type": "stream",
     "text": [
      "['22,000 miles', '2013 Exige 3.5 V6 S in metallic Starlight Black with red details. Excellent condition, dry stored over winter. Recent annual service and clear health check along with MOT at Bell and Colvill Lotus. Wheels have just been stripped and powder coated, Recent set of Michelin PS4s, new front discs and pads and air conditioning serviced at Lotus so all ready for the new owner! New genuine floor mats. New Alpine DAB stereo with Bluetooth phone and audio streaming. Removable hard top with  lotus storage bag, Lotus indoor car cover and Lotus  outdoor cover. Two keys, all books and full service history with most original invoices present. EXIGE Number plate included at the right price! This stunning car always receives lots of interest and compliments. Recent MOT, Full service history, Pet free, Smoke free Next MOT due 20/04/2023, Full service history, Black, 5+ owners, £42,000', 'https://m.atcdn.co.uk/a/media/w800h600/8d9651ca74ce4dd1b384a3edd13ea91b.jpg']\n"
     ]
    }
   ],
   "source": []
  },
  {
   "cell_type": "code",
   "execution_count": null,
   "metadata": {},
   "outputs": [],
   "source": [
    "# Close session\n",
    "test.close()"
   ]
  }
 ],
 "metadata": {
  "kernelspec": {
   "display_name": "Python 3.10.5",
   "language": "python",
   "name": "python3"
  },
  "language_info": {
   "codemirror_mode": {
    "name": "ipython",
    "version": 3
   },
   "file_extension": ".py",
   "mimetype": "text/x-python",
   "name": "python",
   "nbconvert_exporter": "python",
   "pygments_lexer": "ipython3",
   "version": "3.10.5"
  },
  "orig_nbformat": 4,
  "vscode": {
   "interpreter": {
    "hash": "ec3851c8d0af2c3370c97ea4f8b3cd227463b8df70ec63065c46c426113ceb6a"
   }
  }
 },
 "nbformat": 4,
 "nbformat_minor": 2
}
